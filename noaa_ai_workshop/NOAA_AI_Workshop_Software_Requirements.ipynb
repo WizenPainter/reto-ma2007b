{
  "nbformat": 4,
  "nbformat_minor": 0,
  "metadata": {
    "colab": {
      "name": "NOAA_AI_Workshop_Software_Requirements.ipynb",
      "provenance": [],
      "collapsed_sections": [],
      "authorship_tag": "ABX9TyMdZuPBh/ojA9vcHA8Cp0/V",
      "include_colab_link": true
    },
    "kernelspec": {
      "name": "python3",
      "display_name": "Python 3"
    }
  },
  "cells": [
    {
      "cell_type": "markdown",
      "metadata": {
        "id": "view-in-github",
        "colab_type": "text"
      },
      "source": [
        "<a href=\"https://colab.research.google.com/github/ankurmahesh/noaa_ai_workshop/blob/main/NOAA_AI_Workshop_Software_Requirements.ipynb\" target=\"_parent\"><img src=\"https://colab.research.google.com/assets/colab-badge.svg\" alt=\"Open In Colab\"/></a>"
      ]
    },
    {
      "cell_type": "markdown",
      "metadata": {
        "id": "rIcjBzsR-OG8"
      },
      "source": [
        "#Software Requirements\n",
        "\n",
        "\n",
        "We greatly look forward to hosting a hands-on tutorial on \"Learning the Fundamentals of Machine Learning through Forecasting El Niño at the NOAA AI Workshop Tutorial.\n",
        "\n",
        "This notebook requires the following libraries: numpy, xarray, netCDF4, pandas, matplotlib, sklearn, tqdm, pytorch, scipy. Furthermore, it is strongly recommended that you use this notebook on Google Colab for ease of use and for access to GPU resources.\n",
        "\n",
        "To check that the software setup is correct, please follow these steps:\n",
        "\n",
        "1. Press \"Open in Colab\" at the top of the notebook\n",
        "\n",
        "2. In the Colab window, select \"Edit > Notebook settings > Hardware Accelerator > GPU\"\n",
        "3. Run the code cells below, which set up the programming environment and load the necessary data.\n",
        "\n",
        "4. If you have any issues with these two cells, please email ankur.mahesh@berkeley.edu with the subject line 'NOAA AI Workshop Setup'\n"
      ]
    },
    {
      "cell_type": "code",
      "metadata": {
        "id": "vBhuRvMeHcJN"
      },
      "source": [
        "%matplotlib inline\n",
        "import xarray as xr\n",
        "import pandas as pd\n",
        "import numpy as np\n",
        "from matplotlib import pyplot as plt\n",
        "import sklearn\n",
        "import sklearn.ensemble\n",
        "import scipy.stats\n",
        "from sklearn.model_selection import train_test_split\n",
        "from tqdm import tqdm\n",
        "import xarray as xr\n",
        "import pandas as pd\n",
        "import numpy as np\n",
        "from matplotlib import pyplot as plt\n",
        "import sklearn\n",
        "import sklearn.ensemble\n",
        "import scipy.stats\n",
        "from sklearn.model_selection import train_test_split \n",
        "import torch\n",
        "import torchvision\n",
        "import torch.nn as nn\n",
        "import torch.nn.functional as F\n",
        "import torch.optim as optim\n",
        "from torch.utils.data import Dataset, DataLoader\n",
        "from scipy.stats import pearsonr\n",
        "from sklearn.metrics import mean_squared_error"
      ],
      "execution_count": null,
      "outputs": []
    },
    {
      "cell_type": "markdown",
      "metadata": {
        "id": "IFO52pFTHmvh"
      },
      "source": [
        "If the above cell runs successfully, you will not see any `ImportErrors`."
      ]
    },
    {
      "cell_type": "code",
      "metadata": {
        "id": "TMvJ3jPSHj37"
      },
      "source": [
        "!pip install netCDF4\n",
        "!wget http://portal.nersc.gov/project/dasrepo/AGU_ML_Tutorial/sst.mon.mean.trefadj.anom.1880to2018.nc\n",
        "!wget http://portal.nersc.gov/project/dasrepo/AGU_ML_Tutorial/nino34.long.anom.data.txt"
      ],
      "execution_count": null,
      "outputs": []
    },
    {
      "cell_type": "markdown",
      "metadata": {
        "id": "A0Iok9OhJCkG"
      },
      "source": [
        "If the above code cells runs successfully, you will see this output:\n",
        "\n",
        "```\n",
        "Collecting netCDF4\n",
        "  Downloading https://files.pythonhosted.org/packages/09/39/3687b2ba762a709cd97e48dfaf3ae36a78ae603ec3d1487f767ad58a7b2e/netCDF4-1.5.4-cp36-cp36m-manylinux1_x86_64.whl (4.3MB)\n",
        "     |████████████████████████████████| 4.3MB 2.9MB/s \n",
        "Requirement already satisfied: numpy>=1.9 in /usr/local/lib/python3.6/dist-packages (from netCDF4) (1.18.5)\n",
        "Collecting cftime\n",
        "  Downloading https://files.pythonhosted.org/packages/81/f4/31cb9b65f462ea960bd334c5466313cb7b8af792f272546b68b7868fccd4/cftime-1.2.1-cp36-cp36m-manylinux1_x86_64.whl (287kB)\n",
        "     |████████████████████████████████| 296kB 34.2MB/s \n",
        "Installing collected packages: cftime, netCDF4\n",
        "Successfully installed cftime-1.2.1 netCDF4-1.5.4\n",
        "--2020-10-08 16:50:29--  http://portal.nersc.gov/project/dasrepo/AGU_ML_Tutorial/sst.mon.mean.trefadj.anom.1880to2018.nc\n",
        "Resolving portal.nersc.gov (portal.nersc.gov)... 128.55.206.26, 128.55.206.28\n",
        "Connecting to portal.nersc.gov (portal.nersc.gov)|128.55.206.26|:80... connected.\n",
        "HTTP request sent, awaiting response... 301 Moved Permanently\n",
        "Location: https://portal.nersc.gov/project/dasrepo/AGU_ML_Tutorial/sst.mon.mean.trefadj.anom.1880to2018.nc [following]\n",
        "--2020-10-08 16:50:29--  https://portal.nersc.gov/project/dasrepo/AGU_ML_Tutorial/sst.mon.mean.trefadj.anom.1880to2018.nc\n",
        "Connecting to portal.nersc.gov (portal.nersc.gov)|128.55.206.26|:443... connected.\n",
        "HTTP request sent, awaiting response... 200 OK\n",
        "Length: 432481041 (412M) [application/x-netcdf]\n",
        "Saving to: ‘sst.mon.mean.trefadj.anom.1880to2018.nc’\n",
        "\n",
        "sst.mon.mean.trefad 100%[===================>] 412.45M  15.7MB/s    in 27s     \n",
        "\n",
        "2020-10-08 16:50:57 (15.5 MB/s) - ‘sst.mon.mean.trefadj.anom.1880to2018.nc’ saved [432481041/432481041]\n",
        "\n",
        "URL transformed to HTTPS due to an HSTS policy\n",
        "--2020-10-08 16:50:57--  https://portal.nersc.gov/project/dasrepo/AGU_ML_Tutorial/nino34.long.anom.data.txt\n",
        "Resolving portal.nersc.gov (portal.nersc.gov)... 128.55.206.26, 128.55.206.28\n",
        "Connecting to portal.nersc.gov (portal.nersc.gov)|128.55.206.26|:443... connected.\n",
        "HTTP request sent, awaiting response... 200 OK\n",
        "Length: 15449 (15K) [text/plain]\n",
        "Saving to: ‘nino34.long.anom.data.txt’\n",
        "\n",
        "nino34.long.anom.da 100%[===================>]  15.09K  --.-KB/s    in 0.09s   \n",
        "\n",
        "2020-10-08 16:50:57 (167 KB/s) - ‘nino34.long.anom.data.txt’ saved [15449/15449]```\n",
        "\n"
      ]
    },
    {
      "cell_type": "code",
      "metadata": {
        "id": "_OGSTzeLHvIi"
      },
      "source": [
        ""
      ],
      "execution_count": null,
      "outputs": []
    }
  ]
}