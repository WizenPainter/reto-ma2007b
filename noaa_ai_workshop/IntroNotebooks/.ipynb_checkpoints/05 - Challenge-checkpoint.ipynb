{
 "cells": [
  {
   "cell_type": "markdown",
   "id": "97e19d30-6231-438b-ad7c-5568b24ab46a",
   "metadata": {},
   "source": [
    "# Challenge Exercise: What insights can homology provide on a weather dataset?"
   ]
  },
  {
   "cell_type": "markdown",
   "id": "3e7e16aa-beaa-46b9-955f-a152b641cecb",
   "metadata": {},
   "source": [
    "Let's try to get insights from a real dataset our ENSO forecasting model on old data (i.e. early 1900s) from the Cobe SST dataset. There is significantly more uncertainty with this data than there is with newer data, since the advent of remote sensing and data sources has improved.\n",
    "\n",
    "GOAL OF THIS EXERCISE: you have learned several data visualization/exploration tools. Use the functions on kmeans clustering, simplicial complexes, persistent homology, persistent diagrams, persistent barcodes, turning a time-series signal into a point cloud to try to derive an exploratory analysis of the provided dataset. Your goal is to understand and be able to explain clearly patterns that you observe in the dataset. Some things to try:\n",
    "-  How would you slice the dataset? In what resolution are you looking for those patterns?\n",
    "-  What is the connection between the target variable and the predictor variables? Can you derive some of these insights from the data?\n",
    "- Is there a periodic footprint in the data? Could this be useful?\n",
    "\n",
    "Dataset summary:\n",
    "-  Target variable: flow (m3 / sec) – one location\n",
    "- Predictor Variables: Precipitation (mm) and Temperature (deg C) – 9 locations\n",
    "- Dates available: 1/1/1957 – 12/26/2016"
   ]
  }
 ],
 "metadata": {
  "environment": {
   "kernel": "python3",
   "name": "common-cpu.m82",
   "type": "gcloud",
   "uri": "gcr.io/deeplearning-platform-release/base-cpu:m82"
  },
  "kernelspec": {
   "display_name": "Python 3",
   "language": "python",
   "name": "python3"
  },
  "language_info": {
   "codemirror_mode": {
    "name": "ipython",
    "version": 3
   },
   "file_extension": ".py",
   "mimetype": "text/x-python",
   "name": "python",
   "nbconvert_exporter": "python",
   "pygments_lexer": "ipython3",
   "version": "3.7.10"
  }
 },
 "nbformat": 4,
 "nbformat_minor": 5
}
