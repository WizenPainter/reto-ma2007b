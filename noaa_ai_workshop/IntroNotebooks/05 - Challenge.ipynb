{
 "cells": [
  {
   "cell_type": "markdown",
   "id": "97e19d30-6231-438b-ad7c-5568b24ab46a",
   "metadata": {},
   "source": [
    "# Challenge Exercise: What insights can homology provide on a weather dataset?"
   ]
  },
  {
   "cell_type": "markdown",
   "id": "3e7e16aa-beaa-46b9-955f-a152b641cecb",
   "metadata": {},
   "source": [
    "Let's try to get insights from a real dataset our ENSO forecasting model on old data (i.e. early 1900s) from the Cobe SST dataset. There is significantly more uncertainty with this data than there is with newer data, since the advent of remote sensing and data sources has improved.\n",
    "\n",
    "GOAL OF THIS EXERCISE: you have learned several data visualization/exploration tools. Use the functions on kmeans clustering, simplicial complexes, persistent homology, persistent diagrams, persistent barcodes, turning a time-series signal into a point cloud to try to derive an exploratory analysis of the provided dataset. Your goal is to understand and be able to explain clearly patterns that you observe in the dataset. Some things to try:\n",
    "-  How would you slice the dataset? In what resolution are you looking for those patterns?\n",
    "-  What is the connection between the target variable and the predictor variables? Can you derive some of these insights from the data?\n",
    "- Is there a periodic footprint in the data? Could this be useful?\n",
    "\n",
    "Dataset summary:\n",
    "-  Target variable: flow (m3 / sec) – one location\n",
    "- Predictor Variables: Precipitation (mm) and Temperature (deg C) – 9 locations\n",
    "- Dates available: 1/1/1957 – 12/26/2016"
   ]
  },
  {
   "cell_type": "markdown",
   "id": "3531fceb",
   "metadata": {},
   "source": [
    "## Data Cleanup"
   ]
  },
  {
   "cell_type": "code",
   "execution_count": 1,
   "id": "4df4393e",
   "metadata": {},
   "outputs": [],
   "source": [
    "from sklearn.cluster import KMeans\n",
    "import numpy as np\n",
    "import pandas as pd\n",
    "import matplotlib.pyplot as plt\n",
    "from sklearn.decomposition import PCA\n",
    "%matplotlib inline\n",
    "\n",
    "file = \"C:/Users/guzma/OneDrive/Documents/TEC/S6/Geometria y topologia de datos/Reto/noaa_ai_workshop/IntroNotebooks/uke_eggedal_data_challenge.pkl\"\n",
    "df = pd.read_pickle(file)"
   ]
  },
  {
   "cell_type": "code",
   "execution_count": 5,
   "id": "b8202d17",
   "metadata": {},
   "outputs": [
    {
     "name": "stdout",
     "output_type": "stream",
     "text": [
      "21542\n",
      "21546\n",
      "21542\n",
      "2\n",
      "21546\n",
      "21546\n"
     ]
    }
   ],
   "source": [
    "for key in df.keys():\n",
    "    print(len(df[key]))"
   ]
  },
  {
   "cell_type": "code",
   "execution_count": 57,
   "id": "11e5ff90",
   "metadata": {},
   "outputs": [],
   "source": [
    "df1 = pd.DataFrame(df['flow'])\n",
    "df1.columns = ['flow']\n",
    "df2 = pd.DataFrame(df['obs_tas'])\n",
    "df2.columns = ['tas_0', 'tas_1', 'tas_2', 'tas_3', 'tas_4', 'tas_5', 'tas_6', 'tas_7', 'tas_8']\n",
    "df3 = pd.DataFrame(df['flow_dates'])\n",
    "# df4 = pd.DataFrame(df['obs_lon_lat']) # ignore\n",
    "df5 = pd.DataFrame(df['obs_pr'])\n",
    "df5.columns = ['pr_0', 'pr_1', 'pr_2', 'pr_3', 'pr_4', 'pr_5', 'pr_6', 'pr_7', 'pr_8']\n",
    "# df6 = pd.DataFrame(df['obs_dates']) # ignore"
   ]
  },
  {
   "cell_type": "code",
   "execution_count": 58,
   "id": "e044d8f3",
   "metadata": {},
   "outputs": [],
   "source": [
    "data = pd.concat([df1, df2], axis=1, join='inner')\n",
    "data = pd.concat([data, df5], axis=1, join='inner')\n",
    "# data = pd.concat([data, df3], axis=1, join='inner')\n",
    "# data = pd.concat([data, df6], axis=1, join='inner')"
   ]
  },
  {
   "cell_type": "code",
   "execution_count": 59,
   "id": "fb77847f",
   "metadata": {},
   "outputs": [
    {
     "data": {
      "text/html": [
       "<div>\n",
       "<style scoped>\n",
       "    .dataframe tbody tr th:only-of-type {\n",
       "        vertical-align: middle;\n",
       "    }\n",
       "\n",
       "    .dataframe tbody tr th {\n",
       "        vertical-align: top;\n",
       "    }\n",
       "\n",
       "    .dataframe thead th {\n",
       "        text-align: right;\n",
       "    }\n",
       "</style>\n",
       "<table border=\"1\" class=\"dataframe\">\n",
       "  <thead>\n",
       "    <tr style=\"text-align: right;\">\n",
       "      <th></th>\n",
       "      <th>flow</th>\n",
       "      <th>tas_0</th>\n",
       "      <th>tas_1</th>\n",
       "      <th>tas_2</th>\n",
       "      <th>tas_3</th>\n",
       "      <th>tas_4</th>\n",
       "      <th>tas_5</th>\n",
       "      <th>tas_6</th>\n",
       "      <th>tas_7</th>\n",
       "      <th>tas_8</th>\n",
       "      <th>pr_0</th>\n",
       "      <th>pr_1</th>\n",
       "      <th>pr_2</th>\n",
       "      <th>pr_3</th>\n",
       "      <th>pr_4</th>\n",
       "      <th>pr_5</th>\n",
       "      <th>pr_6</th>\n",
       "      <th>pr_7</th>\n",
       "      <th>pr_8</th>\n",
       "    </tr>\n",
       "    <tr>\n",
       "      <th>0</th>\n",
       "      <th></th>\n",
       "      <th></th>\n",
       "      <th></th>\n",
       "      <th></th>\n",
       "      <th></th>\n",
       "      <th></th>\n",
       "      <th></th>\n",
       "      <th></th>\n",
       "      <th></th>\n",
       "      <th></th>\n",
       "      <th></th>\n",
       "      <th></th>\n",
       "      <th></th>\n",
       "      <th></th>\n",
       "      <th></th>\n",
       "      <th></th>\n",
       "      <th></th>\n",
       "      <th></th>\n",
       "      <th></th>\n",
       "    </tr>\n",
       "  </thead>\n",
       "  <tbody>\n",
       "    <tr>\n",
       "      <th>1958-01-04</th>\n",
       "      <td>1.723781</td>\n",
       "      <td>-10.600000</td>\n",
       "      <td>-9.7</td>\n",
       "      <td>-6.7</td>\n",
       "      <td>-8.800000</td>\n",
       "      <td>-8.900000</td>\n",
       "      <td>-7.500000</td>\n",
       "      <td>-8.1</td>\n",
       "      <td>-6.5</td>\n",
       "      <td>-5.4</td>\n",
       "      <td>0.0</td>\n",
       "      <td>0.0</td>\n",
       "      <td>0.0</td>\n",
       "      <td>0.0</td>\n",
       "      <td>0.0</td>\n",
       "      <td>0.0</td>\n",
       "      <td>0.0</td>\n",
       "      <td>0.1</td>\n",
       "      <td>0.1</td>\n",
       "    </tr>\n",
       "    <tr>\n",
       "      <th>1958-01-05</th>\n",
       "      <td>0.960882</td>\n",
       "      <td>-20.500000</td>\n",
       "      <td>-19.1</td>\n",
       "      <td>-12.0</td>\n",
       "      <td>-17.700001</td>\n",
       "      <td>-17.700001</td>\n",
       "      <td>-13.100000</td>\n",
       "      <td>-15.5</td>\n",
       "      <td>-11.8</td>\n",
       "      <td>-9.1</td>\n",
       "      <td>0.0</td>\n",
       "      <td>0.0</td>\n",
       "      <td>0.0</td>\n",
       "      <td>0.0</td>\n",
       "      <td>0.0</td>\n",
       "      <td>0.0</td>\n",
       "      <td>0.0</td>\n",
       "      <td>0.2</td>\n",
       "      <td>0.1</td>\n",
       "    </tr>\n",
       "    <tr>\n",
       "      <th>1958-01-06</th>\n",
       "      <td>0.001000</td>\n",
       "      <td>-23.600000</td>\n",
       "      <td>-22.5</td>\n",
       "      <td>-15.1</td>\n",
       "      <td>-21.400000</td>\n",
       "      <td>-21.400000</td>\n",
       "      <td>-16.299999</td>\n",
       "      <td>-19.4</td>\n",
       "      <td>-14.6</td>\n",
       "      <td>-12.2</td>\n",
       "      <td>0.1</td>\n",
       "      <td>0.0</td>\n",
       "      <td>0.3</td>\n",
       "      <td>0.1</td>\n",
       "      <td>0.3</td>\n",
       "      <td>0.3</td>\n",
       "      <td>0.4</td>\n",
       "      <td>0.3</td>\n",
       "      <td>0.5</td>\n",
       "    </tr>\n",
       "    <tr>\n",
       "      <th>1958-01-07</th>\n",
       "      <td>0.001000</td>\n",
       "      <td>-16.200001</td>\n",
       "      <td>-16.0</td>\n",
       "      <td>-14.1</td>\n",
       "      <td>-15.600000</td>\n",
       "      <td>-15.400000</td>\n",
       "      <td>-14.500000</td>\n",
       "      <td>-15.0</td>\n",
       "      <td>-13.8</td>\n",
       "      <td>-11.9</td>\n",
       "      <td>1.0</td>\n",
       "      <td>0.0</td>\n",
       "      <td>1.0</td>\n",
       "      <td>1.1</td>\n",
       "      <td>0.9</td>\n",
       "      <td>0.7</td>\n",
       "      <td>0.8</td>\n",
       "      <td>0.4</td>\n",
       "      <td>0.6</td>\n",
       "    </tr>\n",
       "    <tr>\n",
       "      <th>1958-01-08</th>\n",
       "      <td>0.316796</td>\n",
       "      <td>-7.900000</td>\n",
       "      <td>-7.8</td>\n",
       "      <td>-9.5</td>\n",
       "      <td>-7.600000</td>\n",
       "      <td>-7.500000</td>\n",
       "      <td>-8.000000</td>\n",
       "      <td>-7.4</td>\n",
       "      <td>-8.6</td>\n",
       "      <td>-8.2</td>\n",
       "      <td>9.3</td>\n",
       "      <td>8.6</td>\n",
       "      <td>8.0</td>\n",
       "      <td>8.9</td>\n",
       "      <td>8.7</td>\n",
       "      <td>10.2</td>\n",
       "      <td>9.3</td>\n",
       "      <td>10.1</td>\n",
       "      <td>9.7</td>\n",
       "    </tr>\n",
       "    <tr>\n",
       "      <th>...</th>\n",
       "      <td>...</td>\n",
       "      <td>...</td>\n",
       "      <td>...</td>\n",
       "      <td>...</td>\n",
       "      <td>...</td>\n",
       "      <td>...</td>\n",
       "      <td>...</td>\n",
       "      <td>...</td>\n",
       "      <td>...</td>\n",
       "      <td>...</td>\n",
       "      <td>...</td>\n",
       "      <td>...</td>\n",
       "      <td>...</td>\n",
       "      <td>...</td>\n",
       "      <td>...</td>\n",
       "      <td>...</td>\n",
       "      <td>...</td>\n",
       "      <td>...</td>\n",
       "      <td>...</td>\n",
       "    </tr>\n",
       "    <tr>\n",
       "      <th>2016-12-22</th>\n",
       "      <td>4.843290</td>\n",
       "      <td>-1.600000</td>\n",
       "      <td>-0.8</td>\n",
       "      <td>0.7</td>\n",
       "      <td>0.200000</td>\n",
       "      <td>-0.100000</td>\n",
       "      <td>0.600000</td>\n",
       "      <td>0.7</td>\n",
       "      <td>1.1</td>\n",
       "      <td>1.5</td>\n",
       "      <td>2.6</td>\n",
       "      <td>2.9</td>\n",
       "      <td>2.5</td>\n",
       "      <td>2.8</td>\n",
       "      <td>2.8</td>\n",
       "      <td>2.7</td>\n",
       "      <td>1.5</td>\n",
       "      <td>1.1</td>\n",
       "      <td>2.6</td>\n",
       "    </tr>\n",
       "    <tr>\n",
       "      <th>2016-12-23</th>\n",
       "      <td>3.756970</td>\n",
       "      <td>-1.800000</td>\n",
       "      <td>-0.8</td>\n",
       "      <td>0.1</td>\n",
       "      <td>-0.100000</td>\n",
       "      <td>-0.200000</td>\n",
       "      <td>0.300000</td>\n",
       "      <td>0.4</td>\n",
       "      <td>0.5</td>\n",
       "      <td>1.0</td>\n",
       "      <td>1.7</td>\n",
       "      <td>1.4</td>\n",
       "      <td>0.5</td>\n",
       "      <td>1.2</td>\n",
       "      <td>0.9</td>\n",
       "      <td>0.0</td>\n",
       "      <td>1.2</td>\n",
       "      <td>0.0</td>\n",
       "      <td>0.0</td>\n",
       "    </tr>\n",
       "    <tr>\n",
       "      <th>2016-12-24</th>\n",
       "      <td>3.556818</td>\n",
       "      <td>-0.200000</td>\n",
       "      <td>0.6</td>\n",
       "      <td>3.4</td>\n",
       "      <td>1.700000</td>\n",
       "      <td>1.300000</td>\n",
       "      <td>2.900000</td>\n",
       "      <td>2.2</td>\n",
       "      <td>3.4</td>\n",
       "      <td>4.4</td>\n",
       "      <td>2.1</td>\n",
       "      <td>2.2</td>\n",
       "      <td>4.0</td>\n",
       "      <td>3.0</td>\n",
       "      <td>2.8</td>\n",
       "      <td>2.1</td>\n",
       "      <td>3.3</td>\n",
       "      <td>1.6</td>\n",
       "      <td>0.6</td>\n",
       "    </tr>\n",
       "    <tr>\n",
       "      <th>2016-12-25</th>\n",
       "      <td>3.402133</td>\n",
       "      <td>-4.100000</td>\n",
       "      <td>-3.0</td>\n",
       "      <td>0.7</td>\n",
       "      <td>-1.900000</td>\n",
       "      <td>-2.100000</td>\n",
       "      <td>-0.400000</td>\n",
       "      <td>-1.3</td>\n",
       "      <td>0.5</td>\n",
       "      <td>1.7</td>\n",
       "      <td>0.0</td>\n",
       "      <td>0.0</td>\n",
       "      <td>0.0</td>\n",
       "      <td>0.0</td>\n",
       "      <td>0.0</td>\n",
       "      <td>0.0</td>\n",
       "      <td>0.0</td>\n",
       "      <td>0.0</td>\n",
       "      <td>0.0</td>\n",
       "    </tr>\n",
       "    <tr>\n",
       "      <th>2016-12-26</th>\n",
       "      <td>1.812796</td>\n",
       "      <td>-12.500000</td>\n",
       "      <td>-11.7</td>\n",
       "      <td>-8.6</td>\n",
       "      <td>-11.000000</td>\n",
       "      <td>-10.900000</td>\n",
       "      <td>-9.200000</td>\n",
       "      <td>-9.7</td>\n",
       "      <td>-8.4</td>\n",
       "      <td>-7.5</td>\n",
       "      <td>2.2</td>\n",
       "      <td>0.1</td>\n",
       "      <td>1.1</td>\n",
       "      <td>1.5</td>\n",
       "      <td>0.1</td>\n",
       "      <td>0.0</td>\n",
       "      <td>0.0</td>\n",
       "      <td>0.0</td>\n",
       "      <td>0.0</td>\n",
       "    </tr>\n",
       "  </tbody>\n",
       "</table>\n",
       "<p>21542 rows × 19 columns</p>\n",
       "</div>"
      ],
      "text/plain": [
       "                flow      tas_0  tas_1  tas_2      tas_3      tas_4  \\\n",
       "0                                                                     \n",
       "1958-01-04  1.723781 -10.600000   -9.7   -6.7  -8.800000  -8.900000   \n",
       "1958-01-05  0.960882 -20.500000  -19.1  -12.0 -17.700001 -17.700001   \n",
       "1958-01-06  0.001000 -23.600000  -22.5  -15.1 -21.400000 -21.400000   \n",
       "1958-01-07  0.001000 -16.200001  -16.0  -14.1 -15.600000 -15.400000   \n",
       "1958-01-08  0.316796  -7.900000   -7.8   -9.5  -7.600000  -7.500000   \n",
       "...              ...        ...    ...    ...        ...        ...   \n",
       "2016-12-22  4.843290  -1.600000   -0.8    0.7   0.200000  -0.100000   \n",
       "2016-12-23  3.756970  -1.800000   -0.8    0.1  -0.100000  -0.200000   \n",
       "2016-12-24  3.556818  -0.200000    0.6    3.4   1.700000   1.300000   \n",
       "2016-12-25  3.402133  -4.100000   -3.0    0.7  -1.900000  -2.100000   \n",
       "2016-12-26  1.812796 -12.500000  -11.7   -8.6 -11.000000 -10.900000   \n",
       "\n",
       "                tas_5  tas_6  tas_7  tas_8  pr_0  pr_1  pr_2  pr_3  pr_4  \\\n",
       "0                                                                          \n",
       "1958-01-04  -7.500000   -8.1   -6.5   -5.4   0.0   0.0   0.0   0.0   0.0   \n",
       "1958-01-05 -13.100000  -15.5  -11.8   -9.1   0.0   0.0   0.0   0.0   0.0   \n",
       "1958-01-06 -16.299999  -19.4  -14.6  -12.2   0.1   0.0   0.3   0.1   0.3   \n",
       "1958-01-07 -14.500000  -15.0  -13.8  -11.9   1.0   0.0   1.0   1.1   0.9   \n",
       "1958-01-08  -8.000000   -7.4   -8.6   -8.2   9.3   8.6   8.0   8.9   8.7   \n",
       "...               ...    ...    ...    ...   ...   ...   ...   ...   ...   \n",
       "2016-12-22   0.600000    0.7    1.1    1.5   2.6   2.9   2.5   2.8   2.8   \n",
       "2016-12-23   0.300000    0.4    0.5    1.0   1.7   1.4   0.5   1.2   0.9   \n",
       "2016-12-24   2.900000    2.2    3.4    4.4   2.1   2.2   4.0   3.0   2.8   \n",
       "2016-12-25  -0.400000   -1.3    0.5    1.7   0.0   0.0   0.0   0.0   0.0   \n",
       "2016-12-26  -9.200000   -9.7   -8.4   -7.5   2.2   0.1   1.1   1.5   0.1   \n",
       "\n",
       "            pr_5  pr_6  pr_7  pr_8  \n",
       "0                                   \n",
       "1958-01-04   0.0   0.0   0.1   0.1  \n",
       "1958-01-05   0.0   0.0   0.2   0.1  \n",
       "1958-01-06   0.3   0.4   0.3   0.5  \n",
       "1958-01-07   0.7   0.8   0.4   0.6  \n",
       "1958-01-08  10.2   9.3  10.1   9.7  \n",
       "...          ...   ...   ...   ...  \n",
       "2016-12-22   2.7   1.5   1.1   2.6  \n",
       "2016-12-23   0.0   1.2   0.0   0.0  \n",
       "2016-12-24   2.1   3.3   1.6   0.6  \n",
       "2016-12-25   0.0   0.0   0.0   0.0  \n",
       "2016-12-26   0.0   0.0   0.0   0.0  \n",
       "\n",
       "[21542 rows x 19 columns]"
      ]
     },
     "execution_count": 59,
     "metadata": {},
     "output_type": "execute_result"
    }
   ],
   "source": [
    "data.set_index(df3[0])"
   ]
  },
  {
   "cell_type": "code",
   "execution_count": 44,
   "id": "0f9b73ce",
   "metadata": {},
   "outputs": [],
   "source": [
    "pca2 = PCA(n_components=2)\n",
    "pca1 = PCA(n_components=1)\n",
    "dat1 = pca1.fit_transform(data)\n",
    "dat2 = pca2.fit_transform(data)"
   ]
  },
  {
   "cell_type": "markdown",
   "id": "8f382fae",
   "metadata": {},
   "source": [
    "## Kmeans clustering"
   ]
  },
  {
   "cell_type": "markdown",
   "id": "49710d43",
   "metadata": {},
   "source": [
    "### 2 Components"
   ]
  },
  {
   "cell_type": "code",
   "execution_count": 45,
   "id": "82def6b6",
   "metadata": {},
   "outputs": [],
   "source": [
    "kmeans = KMeans(n_clusters=10, random_state=0).fit(dat2)\n",
    "kmeans.labels_\n",
    "center2 = kmeans.cluster_centers_"
   ]
  },
  {
   "cell_type": "code",
   "execution_count": 46,
   "id": "aa22a0c7",
   "metadata": {},
   "outputs": [],
   "source": [
    "label = kmeans.fit_predict(data)\n",
    "u_labels = np.unique(label)"
   ]
  },
  {
   "cell_type": "code",
   "execution_count": 47,
   "id": "5e997ad5",
   "metadata": {},
   "outputs": [
    {
     "data": {
      "text/plain": [
       "(21542, 2)"
      ]
     },
     "execution_count": 47,
     "metadata": {},
     "output_type": "execute_result"
    }
   ],
   "source": [
    "dam = pd.DataFrame(dat2)\n",
    "dam.shape"
   ]
  },
  {
   "cell_type": "code",
   "execution_count": 48,
   "id": "32792ca2",
   "metadata": {},
   "outputs": [
    {
     "data": {
      "image/png": "[encoded data removed]",
      "text/plain": [
       "<Figure size 400x400 with 1 Axes>"
      ]
     },
     "metadata": {
      "needs_background": "light"
     },
     "output_type": "display_data"
    }
   ],
   "source": [
    "plt.figure(figsize=(4,4), dpi=100)\n",
    "plt.scatter(dat2[:,0], dat2[:,1], c=kmeans.labels_)\n",
    "plt.scatter(center2[:,0],center2[:,1],marker = '^', c = 'r')\n",
    "plt.show()"
   ]
  },
  {
   "cell_type": "markdown",
   "id": "4671edad",
   "metadata": {},
   "source": [
    "### 1 Component"
   ]
  },
  {
   "cell_type": "code",
   "execution_count": 57,
   "id": "36a8ccc4",
   "metadata": {},
   "outputs": [],
   "source": [
    "kmeans = KMeans(n_clusters=10, random_state=0).fit(dat1)\n",
    "kmeans.labels_\n",
    "center1 = kmeans.cluster_centers_"
   ]
  },
  {
   "cell_type": "code",
   "execution_count": 50,
   "id": "3004bb8a",
   "metadata": {},
   "outputs": [
    {
     "data": {
      "text/plain": [
       "(21542, 1)"
      ]
     },
     "execution_count": 50,
     "metadata": {},
     "output_type": "execute_result"
    }
   ],
   "source": [
    "dam1 = pd.DataFrame(dat1)\n",
    "dam1.shape"
   ]
  },
  {
   "cell_type": "code",
   "execution_count": 63,
   "id": "d7d5507a",
   "metadata": {},
   "outputs": [
    {
     "data": {
      "image/png": "[encoded data removed]",
      "text/plain": [
       "<Figure size 400x400 with 1 Axes>"
      ]
     },
     "metadata": {
      "needs_background": "light"
     },
     "output_type": "display_data"
    }
   ],
   "source": [
    "plt.figure(figsize=(4,4), dpi=100)\n",
    "plt.plot(dat1)\n",
    "plt.plot(center1, c='r')\n",
    "plt.show()"
   ]
  },
  {
   "cell_type": "markdown",
   "id": "d38088c5",
   "metadata": {},
   "source": [
    "## Simplicial Complexes"
   ]
  },
  {
   "cell_type": "code",
   "execution_count": 65,
   "id": "a6483258",
   "metadata": {},
   "outputs": [],
   "source": [
    "import networkx as nx"
   ]
  },
  {
   "cell_type": "markdown",
   "id": "a384b050",
   "metadata": {},
   "source": [
    "## Persistent Homology"
   ]
  },
  {
   "cell_type": "markdown",
   "id": "314e1b43",
   "metadata": {},
   "source": [
    "## Persistent diagrams"
   ]
  },
  {
   "cell_type": "markdown",
   "id": "dae86c5b",
   "metadata": {},
   "source": [
    "## Persistent Barcodes"
   ]
  },
  {
   "cell_type": "markdown",
   "id": "95b28602",
   "metadata": {},
   "source": [
    "## Point Cloud"
   ]
  }
 ],
 "metadata": {
  "environment": {
   "kernel": "python3",
   "name": "common-cpu.m82",
   "type": "gcloud",
   "uri": "gcr.io/deeplearning-platform-release/base-cpu:m82"
  },
  "kernelspec": {
   "display_name": "Python 3",
   "language": "python",
   "name": "python3"
  },
  "language_info": {
   "codemirror_mode": {
    "name": "ipython",
    "version": 3
   },
   "file_extension": ".py",
   "mimetype": "text/x-python",
   "name": "python",
   "nbconvert_exporter": "python",
   "pygments_lexer": "ipython3",
   "version": "3.10.2"
  }
 },
 "nbformat": 4,
 "nbformat_minor": 5
}
